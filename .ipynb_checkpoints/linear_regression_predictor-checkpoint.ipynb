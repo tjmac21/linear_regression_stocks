{
 "cells": [
  {
   "cell_type": "code",
   "execution_count": 33,
   "id": "brutal-boating",
   "metadata": {},
   "outputs": [],
   "source": [
    "import quandl\n",
    "import pandas as pd\n",
    "import numpy as np\n",
    "import matplotlib.pyplot as plt\n",
    "import datetime\n",
    "\n",
    "from sklearn.model_selection import train_test_split\n",
    "from sklearn import preprocessing\n",
    "from sklearn.linear_model import LinearRegression"
   ]
  },
  {
   "cell_type": "code",
   "execution_count": 34,
   "id": "martial-empire",
   "metadata": {},
   "outputs": [
    {
     "data": {
      "text/html": [
       "<div>\n",
       "<style scoped>\n",
       "    .dataframe tbody tr th:only-of-type {\n",
       "        vertical-align: middle;\n",
       "    }\n",
       "\n",
       "    .dataframe tbody tr th {\n",
       "        vertical-align: top;\n",
       "    }\n",
       "\n",
       "    .dataframe thead th {\n",
       "        text-align: right;\n",
       "    }\n",
       "</style>\n",
       "<table border=\"1\" class=\"dataframe\">\n",
       "  <thead>\n",
       "    <tr style=\"text-align: right;\">\n",
       "      <th></th>\n",
       "      <th>Adj. Close</th>\n",
       "    </tr>\n",
       "    <tr>\n",
       "      <th>Date</th>\n",
       "      <th></th>\n",
       "    </tr>\n",
       "  </thead>\n",
       "  <tbody>\n",
       "    <tr>\n",
       "      <th>1997-05-16</th>\n",
       "      <td>1.729167</td>\n",
       "    </tr>\n",
       "    <tr>\n",
       "      <th>1997-05-19</th>\n",
       "      <td>1.708333</td>\n",
       "    </tr>\n",
       "    <tr>\n",
       "      <th>1997-05-20</th>\n",
       "      <td>1.635833</td>\n",
       "    </tr>\n",
       "    <tr>\n",
       "      <th>1997-05-21</th>\n",
       "      <td>1.427500</td>\n",
       "    </tr>\n",
       "    <tr>\n",
       "      <th>1997-05-22</th>\n",
       "      <td>1.395833</td>\n",
       "    </tr>\n",
       "    <tr>\n",
       "      <th>...</th>\n",
       "      <td>...</td>\n",
       "    </tr>\n",
       "    <tr>\n",
       "      <th>2018-03-21</th>\n",
       "      <td>1581.860000</td>\n",
       "    </tr>\n",
       "    <tr>\n",
       "      <th>2018-03-22</th>\n",
       "      <td>1544.100000</td>\n",
       "    </tr>\n",
       "    <tr>\n",
       "      <th>2018-03-23</th>\n",
       "      <td>1495.560000</td>\n",
       "    </tr>\n",
       "    <tr>\n",
       "      <th>2018-03-26</th>\n",
       "      <td>1555.860000</td>\n",
       "    </tr>\n",
       "    <tr>\n",
       "      <th>2018-03-27</th>\n",
       "      <td>1497.050000</td>\n",
       "    </tr>\n",
       "  </tbody>\n",
       "</table>\n",
       "<p>5248 rows × 1 columns</p>\n",
       "</div>"
      ],
      "text/plain": [
       "             Adj. Close\n",
       "Date                   \n",
       "1997-05-16     1.729167\n",
       "1997-05-19     1.708333\n",
       "1997-05-20     1.635833\n",
       "1997-05-21     1.427500\n",
       "1997-05-22     1.395833\n",
       "...                 ...\n",
       "2018-03-21  1581.860000\n",
       "2018-03-22  1544.100000\n",
       "2018-03-23  1495.560000\n",
       "2018-03-26  1555.860000\n",
       "2018-03-27  1497.050000\n",
       "\n",
       "[5248 rows x 1 columns]"
      ]
     },
     "execution_count": 34,
     "metadata": {},
     "output_type": "execute_result"
    }
   ],
   "source": [
    "quandl.ApiConfig.api_key = 'VqoMFpJzynp1iaRiepaA'\n",
    "\n",
    "df = quandl.get(\"WIKI/AMZN\")\n",
    "df = df[['Adj. Close']]\n",
    "df"
   ]
  },
  {
   "cell_type": "code",
   "execution_count": 35,
   "id": "arbitrary-fishing",
   "metadata": {},
   "outputs": [
    {
     "data": {
      "image/png": "[encoded data removed]",
      "text/plain": [
       "<Figure size 1080x432 with 1 Axes>"
      ]
     },
     "metadata": {
      "needs_background": "light"
     },
     "output_type": "display_data"
    }
   ],
   "source": [
    "df['Adj. Close'].plot(figsize=(15,6), color='g')\n",
    "plt.legend(loc='upper left')\n",
    "plt.show() "
   ]
  },
  {
   "cell_type": "code",
   "execution_count": 36,
   "id": "adolescent-order",
   "metadata": {},
   "outputs": [],
   "source": [
    "forecast = 30\n",
    "df['Prediction'] = df[['Adj. Close']].shift(-forecast)\n",
    "\n",
    "x = np.array(df.drop(['Prediction'], 1))\n",
    "x = preprocessing.scale(x)\n",
    "x_forecast = x[-forecast:]\n",
    "x = x[:-forecast]\n",
    "\n",
    "y = np.array(df['Prediction'])\n",
    "y = y[:-forecast]"
   ]
  },
  {
   "cell_type": "code",
   "execution_count": 37,
   "id": "level-world",
   "metadata": {},
   "outputs": [
    {
     "data": {
      "text/plain": [
       "array([1499.94116803, 1538.77198894, 1550.15343645, 1536.26403225,\n",
       "       1557.15658669, 1572.64003116, 1574.59538722, 1590.79083634,\n",
       "       1614.11695892, 1603.52190461, 1604.02137056, 1583.83019384,\n",
       "       1591.05650972, 1615.88103015, 1630.79062012, 1638.61204437,\n",
       "       1645.90212186, 1674.62672748, 1695.34925095, 1684.4991502 ,\n",
       "       1687.4959459 , 1678.27176622, 1666.96470726, 1638.53765582,\n",
       "       1682.72445204, 1677.78292721, 1637.65562021, 1586.07247715,\n",
       "       1650.1528959 , 1587.65589048])"
      ]
     },
     "execution_count": 37,
     "metadata": {},
     "output_type": "execute_result"
    }
   ],
   "source": [
    "x_train, x_test, y_train, y_test = train_test_split(x, y, test_size=0.2)\n",
    "\n",
    "clf = LinearRegression()\n",
    "clf.fit(x_train, y_train)\n",
    "\n",
    "confidence = clf.score(x_test, y_test)\n",
    "\n",
    "forecast_predicted = clf.predict(x_forecast)\n",
    "forecast_predicted"
   ]
  },
  {
   "cell_type": "code",
   "execution_count": 38,
   "id": "functional-particle",
   "metadata": {},
   "outputs": [
    {
     "data": {
      "text/plain": [
       "(17282.0, 18029.5)"
      ]
     },
     "execution_count": 38,
     "metadata": {},
     "output_type": "execute_result"
    },
    {
     "data": {
      "image/png": "[encoded data removed]",
      "text/plain": [
       "<Figure size 432x288 with 1 Axes>"
      ]
     },
     "metadata": {
      "needs_background": "light"
     },
     "output_type": "display_data"
    }
   ],
   "source": [
    "dates = pd.date_range(start='2018-03-28', end='2018-04-26')\n",
    "\n",
    "plt.plot(dates, forecast_predicted, color='y')\n",
    "df['Adj. Close'].plot(color='g')\n",
    "\n",
    "plt.xlim(xmin=datetime.date(2017,4,26))"
   ]
  },
  {
   "cell_type": "code",
   "execution_count": null,
   "id": "surface-westminster",
   "metadata": {},
   "outputs": [],
   "source": []
  }
 ],
 "metadata": {
  "kernelspec": {
   "display_name": "Python 3",
   "language": "python",
   "name": "python3"
  },
  "language_info": {
   "codemirror_mode": {
    "name": "ipython",
    "version": 3
   },
   "file_extension": ".py",
   "mimetype": "text/x-python",
   "name": "python",
   "nbconvert_exporter": "python",
   "pygments_lexer": "ipython3",
   "version": "3.8.3"
  }
 },
 "nbformat": 4,
 "nbformat_minor": 5
}
